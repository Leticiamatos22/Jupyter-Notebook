{
 "cells": [
  {
   "cell_type": "markdown",
   "id": "951437ab-4c1d-45ac-af49-59b095315a1a",
   "metadata": {},
   "source": [
    "# Automação Web com Selenium"
   ]
  },
  {
   "cell_type": "markdown",
   "id": "2d2e457c-0e95-4b1f-afb2-1daef674b032",
   "metadata": {},
   "source": [
    "## Preenchendo uma pesquisa WEB"
   ]
  },
  {
   "cell_type": "code",
   "execution_count": 44,
   "id": "c6873b18-d32c-47a4-aa0e-a4f5a1f0f764",
   "metadata": {
    "tags": []
   },
   "outputs": [],
   "source": [
    "#Automação da busca em uma página WEB\n",
    "\n",
    "#PASSO 1 : Entrar no Wikipedia.\n",
    "#PASSO 2 : Pesquisar na barra de pesquisa.\n",
    "#PASSO 3 : Clicar no botão para enviar a pergunta.\n"
   ]
  },
  {
   "cell_type": "code",
   "execution_count": 46,
   "id": "bafea794",
   "metadata": {
    "tags": []
   },
   "outputs": [],
   "source": [
    "#IMPORTAR OS MÓDULOS\n",
    "\n",
    "from selenium import webdriver\n",
    "from webdriver_manager.chrome import ChromeDriverManager\n",
    "from selenium.webdriver.chrome.service import Service\n",
    "\n",
    "servico = Service(ChromeDriverManager().install())\n",
    "\n",
    "navegador = webdriver.Chrome(service=servico)\n",
    "\n",
    "#PASSO 1\n",
    "navegador.get(\"https://pt.wikipedia.org/wiki/Wikip%C3%A9dia:P%C3%A1gina_principal\")\n",
    "\n",
    "#PASSO 2\n",
    "navegador.find_element('xpath', '//*[@id=\"searchInput\"]').send_keys(\"Guerra Mundial\")\n",
    "\n",
    "#PASSO 3\n",
    "navegador.find_element('xpath', '//*[@id=\"searchform\"]/button').click()"
   ]
  },
  {
   "cell_type": "code",
   "execution_count": null,
   "id": "008ff573-b5fe-453f-917d-126178acb7de",
   "metadata": {},
   "outputs": [],
   "source": []
  }
 ],
 "metadata": {
  "kernelspec": {
   "display_name": "Python 3 (ipykernel)",
   "language": "python",
   "name": "python3"
  },
  "language_info": {
   "codemirror_mode": {
    "name": "ipython",
    "version": 3
   },
   "file_extension": ".py",
   "mimetype": "text/x-python",
   "name": "python",
   "nbconvert_exporter": "python",
   "pygments_lexer": "ipython3",
   "version": "3.11.4"
  }
 },
 "nbformat": 4,
 "nbformat_minor": 5
}
